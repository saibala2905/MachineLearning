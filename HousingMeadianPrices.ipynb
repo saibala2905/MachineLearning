{
  "nbformat": 4,
  "nbformat_minor": 0,
  "metadata": {
    "colab": {
      "provenance": [],
      "toc_visible": true,
      "authorship_tag": "ABX9TyPyQEvru4yyt9IO1RMQlS52",
      "include_colab_link": true
    },
    "kernelspec": {
      "name": "python3",
      "display_name": "Python 3"
    },
    "language_info": {
      "name": "python"
    }
  },
  "cells": [
    {
      "cell_type": "markdown",
      "metadata": {
        "id": "view-in-github",
        "colab_type": "text"
      },
      "source": [
        "<a href=\"https://colab.research.google.com/github/saibala2905/MachineLearning/blob/main/HousingMeadianPrices.ipynb\" target=\"_parent\"><img src=\"https://colab.research.google.com/assets/colab-badge.svg\" alt=\"Open In Colab\"/></a>"
      ]
    },
    {
      "cell_type": "markdown",
      "source": [
        "# Hello World!!"
      ],
      "metadata": {
        "id": "y8ZLLOR0Y3IT"
      }
    },
    {
      "cell_type": "code",
      "source": [],
      "metadata": {
        "id": "uTxmDEpHY6-k"
      },
      "execution_count": null,
      "outputs": []
    }
  ]
}